{
 "cells": [
  {
   "cell_type": "markdown",
   "id": "d63da9bd-5b83-49db-9394-d178bb297fdc",
   "metadata": {},
   "source": [
    "* Data Preparation"
   ]
  },
  {
   "cell_type": "code",
   "execution_count": 2,
   "id": "6e9c35ef-ae36-4c2a-adf5-c3f9626ba389",
   "metadata": {},
   "outputs": [
    {
     "name": "stdout",
     "output_type": "stream",
     "text": [
      "Modified dataset shape: (10299, 563)\n"
     ]
    }
   ],
   "source": [
    "import pandas as pd\n",
    "\n",
    "# File paths\n",
    "train_file_path = r\"C:\\Users\\Jaber\\OneDrive - University of Florida\\Educational\\GitHub\\Datasets\\TimeSeries\\Human Activity Recognition with Smartphones (4 classes)\\train.csv\"\n",
    "test_file_path = r\"C:\\Users\\Jaber\\OneDrive - University of Florida\\Educational\\GitHub\\Datasets\\TimeSeries\\Human Activity Recognition with Smartphones (4 classes)\\test.csv\"\n",
    "\n",
    "# Load datasets\n",
    "train_df = pd.read_csv(train_file_path)\n",
    "test_df = pd.read_csv(test_file_path)\n",
    "\n",
    "# Vertical stacking (combining)\n",
    "combined_df = pd.concat([train_df, test_df], axis=0)\n",
    "\n",
    "# Delete the last column\n",
    "combined_df = combined_df.iloc[:, :-1]\n",
    "\n",
    "# Add a new column named \"person\" at the very left with counting numbers\n",
    "combined_df.insert(0, 'person', range(1, len(combined_df) + 1))\n",
    "\n",
    "# Save the modified dataset (optional)\n",
    "modified_file_path = r\"C:\\Users\\Jaber\\OneDrive - University of Florida\\Educational\\GitHub\\Datasets\\TimeSeries\\Human Activity Recognition with Smartphones (4 classes)\\modified_combined.csv\"\n",
    "combined_df.to_csv(modified_file_path, index=False)\n",
    "\n",
    "# Output the shape of the modified dataset to confirm\n",
    "print(\"Modified dataset shape:\", combined_df.shape)\n"
   ]
  },
  {
   "cell_type": "code",
   "execution_count": null,
   "id": "668e0260-7dfe-4039-ad8e-374baa384325",
   "metadata": {},
   "outputs": [],
   "source": []
  },
  {
   "cell_type": "code",
   "execution_count": null,
   "id": "a1253330-0f65-4bba-b5af-115e34387278",
   "metadata": {},
   "outputs": [],
   "source": []
  },
  {
   "cell_type": "code",
   "execution_count": null,
   "id": "15269066-8441-4b7e-a85b-66077d6ed73f",
   "metadata": {},
   "outputs": [],
   "source": []
  },
  {
   "cell_type": "code",
   "execution_count": null,
   "id": "14ef7450-246d-414c-aa7b-917f65cec512",
   "metadata": {},
   "outputs": [],
   "source": []
  }
 ],
 "metadata": {
  "kernelspec": {
   "display_name": "Python 3 (ipykernel)",
   "language": "python",
   "name": "python3"
  },
  "language_info": {
   "codemirror_mode": {
    "name": "ipython",
    "version": 3
   },
   "file_extension": ".py",
   "mimetype": "text/x-python",
   "name": "python",
   "nbconvert_exporter": "python",
   "pygments_lexer": "ipython3",
   "version": "3.11.7"
  }
 },
 "nbformat": 4,
 "nbformat_minor": 5
}
